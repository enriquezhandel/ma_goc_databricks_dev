{
 "cells": [
  {
   "cell_type": "code",
   "execution_count": 0,
   "metadata": {
    "application/vnd.databricks.v1+cell": {
     "cellMetadata": {
      "byteLimit": 2048000,
      "rowLimit": 10000
     },
     "inputWidgets": {},
     "nuid": "cb8bd017-4eeb-464e-a5b1-cef0fa0d3a65",
     "showTitle": false,
     "tableResultSettingsMap": {},
     "title": ""
    }
   },
   "outputs": [],
   "source": [
    "import dlt\n",
    "from pyspark.sql import functions as F\n",
    "from pyspark.sql.window import Window"
   ]
  },
  {
   "cell_type": "code",
   "execution_count": 0,
   "metadata": {
    "application/vnd.databricks.v1+cell": {
     "cellMetadata": {
      "byteLimit": 2048000,
      "rowLimit": 10000
     },
     "inputWidgets": {},
     "nuid": "3b4572b9-b77a-4ab7-8b82-34b57ee16bb4",
     "showTitle": false,
     "tableResultSettingsMap": {},
     "title": ""
    }
   },
   "outputs": [],
   "source": [
    "# Charge in memory structured table for sourcing table and cache apply to keep in memory\n",
    "dfBasedTable = spark.read.table(\"ds_goc_bronze_dev.ds_goc_silver_dev.structured_statuspage\").cache()"
   ]
  },
  {
   "cell_type": "code",
   "execution_count": 0,
   "metadata": {
    "application/vnd.databricks.v1+cell": {
     "cellMetadata": {
      "byteLimit": 2048000,
      "rowLimit": 10000
     },
     "inputWidgets": {},
     "nuid": "fd0e006b-2713-41b3-bf08-0304d1158a87",
     "showTitle": false,
     "tableResultSettingsMap": {},
     "title": ""
    }
   },
   "outputs": [],
   "source": [
    "# Create a base table with necessary columns and calculated fields\n",
    "@dlt.view\n",
    "def base_table():\n",
    "    return (\n",
    "        dfBasedTable\n",
    "        .filter((F.col(\"EmailValidity\") == 'valid') & \n",
    "                (F.col(\"EmailType\") == 'outside') & \n",
    "                (F.col(\"BlankStatus\") == 'valid'))\n",
    "        .select(\"Email\", \"FirstName\", \"LastName\", \"Notification\", \n",
    "                F.col(\"StatusPageName\").alias(\"productName\"), \n",
    "                F.col(\"StatusPageNameCount\").alias(\"controlProduct\"), \n",
    "                \"CompanyNameSource\", \"snapshot_date\", \n",
    "                F.weekofyear(\"snapshot_date\").alias(\"iso_week_num\"),\n",
    "                F.row_number().over(Window.partitionBy(\"Email\").orderBy(\"snapshot_date\")).alias(\"row_num\"),\n",
    "                F.when(F.row_number().over(Window.partitionBy(\"Email\").orderBy(\"snapshot_date\")) == 1, 'New').otherwise('Regular').alias(\"client_status\"))\n",
    "    )"
   ]
  },
  {
   "cell_type": "code",
   "execution_count": 0,
   "metadata": {
    "application/vnd.databricks.v1+cell": {
     "cellMetadata": {
      "byteLimit": 2048000,
      "rowLimit": 10000
     },
     "inputWidgets": {},
     "nuid": "7111df0d-1d6a-4b78-950a-6da4144c978f",
     "showTitle": false,
     "tableResultSettingsMap": {},
     "title": ""
    }
   },
   "outputs": [],
   "source": [
    "# Get the weekly presence of customers\n",
    "@dlt.view\n",
    "def weekly_presence():\n",
    "    base_table = dlt.read(\"base_table\")\n",
    "    return (\n",
    "        base_table\n",
    "        .groupBy(\"Email\")\n",
    "        .agg(F.min(\"iso_week_num\").alias(\"first_seen_week\"),\n",
    "             F.max(\"iso_week_num\").alias(\"last_seen_week\"))\n",
    "    )"
   ]
  },
  {
   "cell_type": "code",
   "execution_count": 0,
   "metadata": {
    "application/vnd.databricks.v1+cell": {
     "cellMetadata": {
      "byteLimit": 2048000,
      "rowLimit": 10000
     },
     "inputWidgets": {},
     "nuid": "ee5031e4-5f0f-471f-bff5-7cd22d37b20d",
     "showTitle": false,
     "tableResultSettingsMap": {},
     "title": ""
    }
   },
   "outputs": [],
   "source": [
    "# Identify when customers stop appearing week-over-week\n",
    "@dlt.view\n",
    "def customer_tracking():\n",
    "    base_table = dlt.read(\"base_table\")\n",
    "    return (\n",
    "        base_table\n",
    "        .withColumn(\"prev_week\", F.lag(\"iso_week_num\").over(Window.partitionBy(\"Email\").orderBy(\"iso_week_num\")))\n",
    "        .withColumn(\"last_active_week\", F.when(F.lag(\"iso_week_num\").over(Window.partitionBy(\"Email\").orderBy(\"iso_week_num\")).isNull(), None)\n",
    "                    .when(F.lag(\"iso_week_num\").over(Window.partitionBy(\"Email\").orderBy(\"iso_week_num\")) < F.col(\"iso_week_num\") - 1, \n",
    "                          F.lag(\"iso_week_num\").over(Window.partitionBy(\"Email\").orderBy(\"iso_week_num\")))\n",
    "                    .otherwise(None))\n",
    "    )"
   ]
  },
  {
   "cell_type": "code",
   "execution_count": 0,
   "metadata": {
    "application/vnd.databricks.v1+cell": {
     "cellMetadata": {
      "byteLimit": 2048000,
      "rowLimit": 10000
     },
     "inputWidgets": {},
     "nuid": "0a5a84f7-b0bd-4111-a5c3-e4f4e0f46819",
     "showTitle": false,
     "tableResultSettingsMap": {},
     "title": ""
    }
   },
   "outputs": [],
   "source": [
    "# Flag customers as \"Removed\" if they have disappeared from any week\n",
    "@dlt.view\n",
    "def removed_customers():\n",
    "    customer_tracking = dlt.read(\"customer_tracking\")\n",
    "    weekly_presence = dlt.read(\"weekly_presence\")\n",
    "    return (\n",
    "        customer_tracking\n",
    "        .join(weekly_presence, \"Email\", \"left\")\n",
    "        .withColumn(\"last_seen_week\", F.coalesce(F.col(\"last_active_week\"), F.col(\"last_seen_week\")))\n",
    "        .withColumn(\"subscription_status\", F.when(F.col(\"last_active_week\").isNotNull(), 'Removed').otherwise('Active'))\n",
    "    )"
   ]
  },
  {
   "cell_type": "code",
   "execution_count": 0,
   "metadata": {
    "application/vnd.databricks.v1+cell": {
     "cellMetadata": {
      "byteLimit": 2048000,
      "rowLimit": 10000
     },
     "inputWidgets": {},
     "nuid": "d992a579-24d2-493b-a36c-89d8e6406198",
     "showTitle": false,
     "tableResultSettingsMap": {},
     "title": ""
    }
   },
   "outputs": [],
   "source": [
    "# Keep only the earliest status per week\n",
    "@dlt.view\n",
    "def earliest_status():\n",
    "    removed_customers = dlt.read(\"removed_customers\")\n",
    "    return (\n",
    "        removed_customers\n",
    "        .withColumn(\"rn\", F.row_number().over(Window.partitionBy(\"Email\", \"iso_week_num\").orderBy(\"snapshot_date\", F.length(\"productName\"))))\n",
    "    )"
   ]
  },
  {
   "cell_type": "code",
   "execution_count": 0,
   "metadata": {
    "application/vnd.databricks.v1+cell": {
     "cellMetadata": {
      "byteLimit": 2048000,
      "rowLimit": 10000
     },
     "inputWidgets": {},
     "nuid": "9a437ce9-9185-45ef-a5d2-147a5ab62283",
     "showTitle": false,
     "tableResultSettingsMap": {},
     "title": ""
    }
   },
   "outputs": [],
   "source": [
    "# Keep only the first occurrence per week\n",
    "@dlt.view\n",
    "def clean_subscription_status():\n",
    "    earliest_status = dlt.read(\"earliest_status\")\n",
    "    return (\n",
    "        earliest_status\n",
    "        .filter(F.col(\"rn\") == 1)\n",
    "        .select(\"Email\", \"FirstName\", \"LastName\", \"Notification\", \"productName\", \"controlProduct\", \"CompanyNameSource\", \n",
    "                \"iso_week_num\", \"client_status\", \"subscription_status\", F.length(\"productName\").alias(\"len_product\"), \"last_seen_week\")\n",
    "    )"
   ]
  },
  {
   "cell_type": "code",
   "execution_count": 0,
   "metadata": {
    "application/vnd.databricks.v1+cell": {
     "cellMetadata": {
      "byteLimit": 2048000,
      "rowLimit": 10000
     },
     "inputWidgets": {},
     "nuid": "b0475343-644a-46b7-9e07-0f953eee584e",
     "showTitle": false,
     "tableResultSettingsMap": {},
     "title": ""
    }
   },
   "outputs": [],
   "source": [
    "# Identify missing customers who vanished from the latest week\n",
    "@dlt.view\n",
    "def missing_customers():\n",
    "    clean_subscription_status = dlt.read(\"clean_subscription_status\")\n",
    "    return (\n",
    "        clean_subscription_status.alias(\"p\")\n",
    "        .join(clean_subscription_status.alias(\"c\"), \n",
    "              (F.col(\"p.Email\") == F.col(\"c.Email\")) & (F.col(\"c.iso_week_num\") == F.col(\"p.iso_week_num\") + 1), \n",
    "              \"left\")\n",
    "        .filter(F.col(\"c.Email\").isNull())\n",
    "        .select(F.col(\"p.Email\"), F.col(\"p.FirstName\"), F.col(\"p.LastName\"), F.col(\"p.Notification\"), F.col(\"p.productName\"), \n",
    "                F.col(\"p.controlProduct\"), F.col(\"p.CompanyNameSource\"), F.col(\"p.iso_week_num\").alias(\"prev_week_num\"), \n",
    "                F.col(\"p.subscription_status\").alias(\"prev_status\"))\n",
    "    )"
   ]
  },
  {
   "cell_type": "code",
   "execution_count": 0,
   "metadata": {
    "application/vnd.databricks.v1+cell": {
     "cellMetadata": {
      "byteLimit": 2048000,
      "rowLimit": 10000
     },
     "inputWidgets": {},
     "nuid": "23c33402-9231-4afe-a40f-8984123c2d09",
     "showTitle": false,
     "tableResultSettingsMap": {},
     "title": ""
    }
   },
   "outputs": [],
   "source": [
    "# Append missing customers with \"Removed\" status\n",
    "@dlt.view\n",
    "def final_status():\n",
    "    clean_subscription_status = dlt.read(\"clean_subscription_status\")\n",
    "    missing_customers = dlt.read(\"missing_customers\")\n",
    "    return (\n",
    "        clean_subscription_status\n",
    "        .unionByName(missing_customers\n",
    "            .select(\"Email\", \"FirstName\", \"LastName\", \"Notification\", \"productName\", \"controlProduct\", \"CompanyNameSource\", \n",
    "                    (F.col(\"prev_week_num\") + 1).alias(\"iso_week_num\"), \n",
    "                    F.lit('Regular').alias(\"client_status\"), \n",
    "                    F.lit('Removed').alias(\"subscription_status\"), \n",
    "                    F.lit(None).alias(\"len_product\"), \n",
    "                    F.col(\"prev_week_num\").alias(\"last_seen_week\"))\n",
    "        )\n",
    "    )"
   ]
  },
  {
   "cell_type": "code",
   "execution_count": 0,
   "metadata": {
    "application/vnd.databricks.v1+cell": {
     "cellMetadata": {
      "byteLimit": 2048000,
      "rowLimit": 10000
     },
     "inputWidgets": {},
     "nuid": "b9f72b7d-ca6e-4cf4-ba3d-114f2bc4887d",
     "showTitle": false,
     "tableResultSettingsMap": {},
     "title": ""
    }
   },
   "outputs": [],
   "source": [
    "# Identify changes across weeks only selecting iso weeks with current date\n",
    "@dlt.view\n",
    "def change_identify():\n",
    "    final_status = dlt.read(\"final_status\")\n",
    "    max_week_num = spark.read.table(\"ds_goc_bronze_dev.ds_goc_silver_dev.structured_statuspage\").agg(F.max(F.weekofyear(\"snapshot_date\"))).collect()[0][0]\n",
    "    \n",
    "    return (\n",
    "        final_status\n",
    "        .withColumn(\"prev_len_product\", F.lag(\"len_product\").over(Window.partitionBy(\"Email\").orderBy(\"iso_week_num\", \"productName\", \"CompanyNameSource\")))\n",
    "        .withColumn(\"prev_Email\", F.lag(\"Email\").over(Window.partitionBy(\"Email\").orderBy(\"iso_week_num\", \"productName\", \"CompanyNameSource\")))\n",
    "        .withColumn(\"prev_FirstName\", F.lag(\"FirstName\").over(Window.partitionBy(\"Email\").orderBy(\"iso_week_num\", \"productName\", \"FirstName\", \"CompanyNameSource\")))\n",
    "        .withColumn(\"prev_LastName\", F.lag(\"LastName\").over(Window.partitionBy(\"Email\").orderBy(\"iso_week_num\", \"productName\", \"LastName\", \"CompanyNameSource\")))\n",
    "        .withColumn(\"prev_Notification\", F.lag(\"Notification\").over(Window.partitionBy(\"Email\").orderBy(\"iso_week_num\", \"productName\", \"CompanyNameSource\")))\n",
    "        .withColumn(\"prev_productName\", F.lag(\"productName\").over(Window.partitionBy(\"Email\").orderBy(\"iso_week_num\", \"productName\", \"CompanyNameSource\")))\n",
    "        .filter(F.col(\"iso_week_num\") <= F.lit(max_week_num))\n",
    "    )"
   ]
  },
  {
   "cell_type": "code",
   "execution_count": 0,
   "metadata": {
    "application/vnd.databricks.v1+cell": {
     "cellMetadata": {
      "byteLimit": 2048000,
      "rowLimit": 10000
     },
     "inputWidgets": {},
     "nuid": "84ac3711-9246-4bed-98d0-08f877c81e54",
     "showTitle": false,
     "tableResultSettingsMap": {},
     "title": ""
    }
   },
   "outputs": [],
   "source": [
    "# Generate final report with change tracking\n",
    "@dlt.table(\n",
    "    name=\"curated_statuspage\",\n",
    "    comment=\"This table transform all users for the subscribers on status page of the applications\",\n",
    "    table_properties={\"quality\": \"gold\"}\n",
    ")\n",
    "def curated_statuspage():\n",
    "    change_identify = dlt.read(\"change_identify\")\n",
    "    return (\n",
    "        change_identify\n",
    "        .select(\"Email\", \"FirstName\", \"LastName\", \"Notification\", \"productName\", \"controlProduct\", \"CompanyNameSource\", \n",
    "                \"iso_week_num\", \"client_status\", \"subscription_status\", \"last_seen_week\",\n",
    "                F.when(F.col(\"Email\") != F.col(\"prev_Email\"), 'Email_Changed')\n",
    "                 .when(F.col(\"FirstName\") != F.col(\"prev_FirstName\"), 'First_Name_Changed')\n",
    "                 .when(F.col(\"LastName\") != F.col(\"prev_LastName\"), 'Last_Name_Changed')\n",
    "                 .when(F.col(\"Notification\") != F.col(\"prev_Notification\"), 'Notification_Changed')\n",
    "                 .when((F.col(\"len_product\") != F.col(\"prev_len_product\")) & (F.col(\"productName\") != F.col(\"prev_productName\")), 'Product_Changed')\n",
    "                 .when(F.col(\"subscription_status\") == 'Removed', 'Removed')\n",
    "                 .otherwise(None).alias(\"change_type\"))\n",
    "        .orderBy(\"Email\", \"iso_week_num\")\n",
    "    )"
   ]
  }
 ],
 "metadata": {
  "application/vnd.databricks.v1+notebook": {
   "computePreferences": null,
   "dashboards": [],
   "environmentMetadata": {
    "base_environment": "",
    "environment_version": "2"
   },
   "language": "python",
   "notebookMetadata": {
    "pythonIndentUnit": 4
   },
   "notebookName": "Curated_StatusPage",
   "widgets": {}
  },
  "language_info": {
   "name": "python"
  }
 },
 "nbformat": 4,
 "nbformat_minor": 0
}
