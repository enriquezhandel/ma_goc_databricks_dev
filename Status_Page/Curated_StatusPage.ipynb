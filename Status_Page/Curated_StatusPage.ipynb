{
 "cells": [
  {
   "cell_type": "code",
   "execution_count": 0,
   "metadata": {
    "application/vnd.databricks.v1+cell": {
     "cellMetadata": {
      "byteLimit": 2048000,
      "rowLimit": 10000
     },
     "inputWidgets": {},
     "nuid": "652d784c-7f7a-46af-ad4b-2a3ab0e5c5b4",
     "showTitle": false,
     "tableResultSettingsMap": {},
     "title": ""
    }
   },
   "outputs": [],
   "source": [
    "import dlt\n",
    "from pyspark.sql.functions import col, weekofyear, row_number, length, lag, when\n",
    "from pyspark.sql.window import Window\n",
    "from pyspark.sql import SparkSession, SQLContext, functions as F"
   ]
  },
  {
   "cell_type": "code",
   "execution_count": 0,
   "metadata": {
    "application/vnd.databricks.v1+cell": {
     "cellMetadata": {
      "byteLimit": 2048000,
      "rowLimit": 10000
     },
     "inputWidgets": {},
     "nuid": "d543c5c2-a782-4bc0-8c13-f7306dc96aca",
     "showTitle": false,
     "tableResultSettingsMap": {},
     "title": ""
    }
   },
   "outputs": [],
   "source": [
    "dfBasedTable = spark.read.table(\"ds_goc_bronze_dev.ds_goc_silver_dev.structured_statuspage\").cache()"
   ]
  },
  {
   "cell_type": "code",
   "execution_count": 0,
   "metadata": {
    "application/vnd.databricks.v1+cell": {
     "cellMetadata": {
      "byteLimit": 2048000,
      "rowLimit": 10000
     },
     "inputWidgets": {},
     "nuid": "c18eb25a-5053-4d92-b101-042e175f3cb7",
     "showTitle": false,
     "tableResultSettingsMap": {},
     "title": ""
    }
   },
   "outputs": [],
   "source": [
    "# Step 1: Create a base table with necessary columns and additional calculated columns\n",
    "@dlt.view(\n",
    "    comment=\"This is just a view of the information to be used in the dashboard\"\n",
    ")\n",
    "def basedTable():\n",
    "    basedTable = (dfBasedTable.filter((F.col(\"EmailValidity\") == 'valid') & \n",
    "                        (F.col(\"EmailType\") == 'outside') & \n",
    "                        (F.col(\"BlankStatus\") == 'valid'))\n",
    "                .select(\"Email\", \"FirstName\", \"LastName\", \"Notification\", \n",
    "                        F.col(\"StatusPageName\").alias(\"productName\"), \n",
    "                        F.col(\"StatusPageNameCount\").alias(\"controlProduct\"), \n",
    "                        \"CompanyNameSource\", \"snapshot_date\", \n",
    "                        F.weekofyear(\"snapshot_date\").alias(\"iso_week_num\"),\n",
    "                        F.row_number().over(Window.partitionBy(\"Email\").orderBy(\"snapshot_date\")).alias(\"row_num\"),\n",
    "                        F.when(F.row_number().over(Window.partitionBy(\"Email\").orderBy(\"snapshot_date\")) == 1, 'New').otherwise('Regular').alias(\"client_status\"))\n",
    "                .orderBy(\"snapshot_date\"))\n",
    "    return basedTable"
   ]
  },
  {
   "cell_type": "code",
   "execution_count": 0,
   "metadata": {
    "application/vnd.databricks.v1+cell": {
     "cellMetadata": {
      "byteLimit": 2048000,
      "rowLimit": 10000
     },
     "inputWidgets": {},
     "nuid": "22bcd87b-a3cd-4758-a6ff-a7ff34f596b0",
     "showTitle": false,
     "tableResultSettingsMap": {},
     "title": ""
    }
   },
   "outputs": [],
   "source": [
    "# Step 2: Identify the latest week number\n",
    "@dlt.view(\n",
    "    comment=\"Identify the latest week number\"\n",
    ")\n",
    "def latest_week():\n",
    "    df = dfBasedTable\n",
    "    latest_week = (df.select(F.weekofyear(\"snapshot_date\").alias(\"iso_week_num\"))\n",
    "                     .distinct()\n",
    "                     .orderBy(F.col(\"iso_week_num\").desc())\n",
    "                     .limit(1))\n",
    "    return latest_week"
   ]
  },
  {
   "cell_type": "code",
   "execution_count": 0,
   "metadata": {
    "application/vnd.databricks.v1+cell": {
     "cellMetadata": {
      "byteLimit": 2048000,
      "rowLimit": 10000
     },
     "inputWidgets": {},
     "nuid": "046a6192-9b98-4cfe-b188-40920e06650d",
     "showTitle": false,
     "tableResultSettingsMap": {},
     "title": ""
    }
   },
   "outputs": [],
   "source": [
    "# Step 3: Identify the previous week number\n",
    "@dlt.view(\n",
    "    comment=\"Identify the previous week number\"\n",
    ")\n",
    "def previous_week():\n",
    "    latest_week = dlt.read(\"latest_week\")\n",
    "    latest_week_num = latest_week.select(\"iso_week_num\").collect()[0][0]\n",
    "    df = dfBasedTable\n",
    "    previous_week = (df.select(F.weekofyear(\"snapshot_date\").alias(\"iso_week_num\"))\n",
    "                       .distinct()\n",
    "                       .filter(F.weekofyear(\"snapshot_date\") < latest_week_num)\n",
    "                       .orderBy(F.col(\"iso_week_num\").desc())\n",
    "                       .limit(1))\n",
    "    return previous_week"
   ]
  },
  {
   "cell_type": "code",
   "execution_count": 0,
   "metadata": {
    "application/vnd.databricks.v1+cell": {
     "cellMetadata": {
      "byteLimit": 2048000,
      "rowLimit": 10000
     },
     "inputWidgets": {},
     "nuid": "035e11ee-b25b-41bc-8fb7-15fccec292e1",
     "showTitle": false,
     "tableResultSettingsMap": {},
     "title": ""
    }
   },
   "outputs": [],
   "source": [
    "# Step 4: Get emails from the previous week\n",
    "@dlt.view(\n",
    "    comment=\"Get emails from the previous week\"\n",
    ")\n",
    "def previous_emails():\n",
    "    previous_week = dlt.read(\"previous_week\")\n",
    "    previous_week_num = previous_week.select(\"iso_week_num\").collect()[0][0]\n",
    "    df = dfBasedTable\n",
    "    previous_emails = (df.filter(F.weekofyear(\"snapshot_date\") == previous_week_num)\n",
    "                         .select(\"Email\", F.weekofyear(\"snapshot_date\").alias(\"iso_week_num\")))\n",
    "    return previous_emails"
   ]
  },
  {
   "cell_type": "code",
   "execution_count": 0,
   "metadata": {
    "application/vnd.databricks.v1+cell": {
     "cellMetadata": {
      "byteLimit": 2048000,
      "rowLimit": 10000
     },
     "inputWidgets": {},
     "nuid": "0a76457d-6d5f-42f5-ae0a-694724a0d7fb",
     "showTitle": false,
     "tableResultSettingsMap": {},
     "title": ""
    }
   },
   "outputs": [],
   "source": [
    "# Step 5: Get emails from the current week\n",
    "@dlt.view(\n",
    "    comment=\"Get emails from the current week\"\n",
    ")\n",
    "def current_emails():\n",
    "    latest_week = dlt.read(\"latest_week\")\n",
    "    latest_week_num = latest_week.select(\"iso_week_num\").collect()[0][0]\n",
    "    df = dfBasedTable\n",
    "    current_emails = (df.filter(F.weekofyear(\"snapshot_date\") == latest_week_num)\n",
    "                        .select(\"Email\", F.weekofyear(\"snapshot_date\").alias(\"iso_week_num\")))\n",
    "    return current_emails"
   ]
  },
  {
   "cell_type": "code",
   "execution_count": 0,
   "metadata": {
    "application/vnd.databricks.v1+cell": {
     "cellMetadata": {
      "byteLimit": 2048000,
      "rowLimit": 10000
     },
     "inputWidgets": {},
     "nuid": "7111b27e-3126-46ed-99c2-1acbe6eac404",
     "showTitle": false,
     "tableResultSettingsMap": {},
     "title": ""
    }
   },
   "outputs": [],
   "source": [
    "# Step 6: Identify removed users by comparing previous and current week emails\n",
    "@dlt.view(\n",
    "    comment=\"Identify removed users by comparing previous and current week emails\"\n",
    ")\n",
    "def removed_users():\n",
    "    previous_emails = dlt.read(\"previous_emails\")\n",
    "    current_emails = dlt.read(\"current_emails\")\n",
    "    removed_users = (previous_emails.join(current_emails, \"Email\", \"left_anti\")\n",
    "                                    .select(F.col(\"Email\"), F.col(\"iso_week_num\").alias(\"removed_week\")))\n",
    "    return removed_users"
   ]
  },
  {
   "cell_type": "code",
   "execution_count": 0,
   "metadata": {
    "application/vnd.databricks.v1+cell": {
     "cellMetadata": {
      "byteLimit": 2048000,
      "rowLimit": 10000
     },
     "inputWidgets": {},
     "nuid": "344e0898-3546-4b57-9bcd-2784e5df7331",
     "showTitle": false,
     "tableResultSettingsMap": {},
     "title": ""
    }
   },
   "outputs": [],
   "source": [
    "# Step 7: Select distinct records from the base table and join with removed users\n",
    "@dlt.view(\n",
    "    comment=\"Select distinct records from the base table and join with removed users\"\n",
    ")\n",
    "def final_table():\n",
    "    basedTable = dlt.read(\"basedTable\")\n",
    "    removed_users = dlt.read(\"removed_users\")\n",
    "    final_table = (basedTable.join(removed_users, \"Email\", \"left\")\n",
    "                              .select(\"Email\", \"FirstName\", \"LastName\", \"Notification\", \"productName\", \"controlProduct\", \n",
    "                                      \"CompanyNameSource\", \"iso_week_num\", \"client_status\", \"snapshot_date\", \n",
    "                                      F.when(F.col(\"removed_week\").isNotNull(), \"Removed\").otherwise(\"Active\").alias(\"subscription_status\"), \n",
    "                                      \"removed_week\")\n",
    "                              .distinct())\n",
    "    return final_table"
   ]
  },
  {
   "cell_type": "code",
   "execution_count": 0,
   "metadata": {
    "application/vnd.databricks.v1+cell": {
     "cellMetadata": {
      "byteLimit": 2048000,
      "rowLimit": 10000
     },
     "inputWidgets": {},
     "nuid": "c97c6641-343b-41ee-bdab-6cf1ee8817ed",
     "showTitle": false,
     "tableResultSettingsMap": {},
     "title": ""
    }
   },
   "outputs": [],
   "source": [
    "# Step 8: Keep only the earliest status for each week and select the product name with the shortest length\n",
    "@dlt.view(\n",
    "    comment=\"Keep only the earliest status for each week and select the product name with the shortest length\"\n",
    ")\n",
    "def earliest_status():\n",
    "    final_table = dlt.read(\"final_table\")\n",
    "    window_spec = Window.partitionBy(\"Email\", \"iso_week_num\").orderBy(\"snapshot_date\", F.length(\"productName\"))\n",
    "    earliest_status = (final_table.withColumn(\"rn\", F.row_number().over(window_spec))\n",
    "                                   .select(\"Email\", \"FirstName\", \"LastName\", \"Notification\", \"controlProduct\", \n",
    "                                           \"CompanyNameSource\", \"iso_week_num\", \"client_status\", \"subscription_status\", \n",
    "                                           \"removed_week\", \"snapshot_date\", \"productName\", \"rn\"))\n",
    "    return earliest_status"
   ]
  },
  {
   "cell_type": "code",
   "execution_count": 0,
   "metadata": {
    "application/vnd.databricks.v1+cell": {
     "cellMetadata": {
      "byteLimit": 2048000,
      "rowLimit": 10000
     },
     "inputWidgets": {},
     "nuid": "41e3e89b-709a-49c6-a211-be8921b1a9ff",
     "showTitle": false,
     "tableResultSettingsMap": {},
     "title": ""
    }
   },
   "outputs": [],
   "source": [
    "# Step 9: Filter to keep only the earliest status for each week\n",
    "@dlt.view(\n",
    "    comment=\"Filter to keep only the earliest status for each week\"\n",
    ")\n",
    "def cleanSubscriptionStatus():\n",
    "    earliest_status = dlt.read(\"earliest_status\")\n",
    "    cleanSubscriptionStatus = (earliest_status.filter(F.col(\"rn\") == 1)\n",
    "                                             .select(\"Email\", \"FirstName\", \"LastName\", \"Notification\", \"productName\", \n",
    "                                                     \"controlProduct\", \"CompanyNameSource\", \"iso_week_num\", \"client_status\", \n",
    "                                                     \"subscription_status\", \"removed_week\"))\n",
    "    return cleanSubscriptionStatus"
   ]
  },
  {
   "cell_type": "code",
   "execution_count": 0,
   "metadata": {
    "application/vnd.databricks.v1+cell": {
     "cellMetadata": {
      "byteLimit": 2048000,
      "rowLimit": 10000
     },
     "inputWidgets": {},
     "nuid": "a0a2967a-8747-41d6-90bf-211f4dea68c7",
     "showTitle": false,
     "tableResultSettingsMap": {},
     "title": ""
    }
   },
   "outputs": [],
   "source": [
    "@dlt.view(\n",
    "    comment=\"Identify the changes happening per week\"\n",
    ")\n",
    "def changeIdentify():\n",
    "    cleanSubscriptionStatus = dlt.read(\"cleanSubscriptionStatus\")\n",
    "    window_spec_change = Window.partitionBy(\"Email\").orderBy(\"iso_week_num\", \"productName\")\n",
    "    changeIdentify = (cleanSubscriptionStatus.withColumn(\"prev_Email\", F.lag(\"Email\").over(window_spec_change))\n",
    "                                          .withColumn(\"prev_FirstName\", F.lag(\"FirstName\").over(window_spec_change))\n",
    "                                          .withColumn(\"prev_LastName\", F.lag(\"LastName\").over(window_spec_change))\n",
    "                                          .withColumn(\"prev_Notification\", F.lag(\"Notification\").over(window_spec_change))\n",
    "                                          .withColumn(\"prev_productName\", F.lag(\"productName\").over(window_spec_change))\n",
    "                                          .withColumn(\"change_type\", \n",
    "                                                      F.when(F.col(\"Email\") != F.lag(\"Email\").over(window_spec_change), \"Email\")\n",
    "                                                       .when(F.col(\"FirstName\") != F.lag(\"FirstName\").over(window_spec_change), \"FirstName\")\n",
    "                                                       .when(F.col(\"LastName\") != F.lag(\"LastName\").over(window_spec_change), \"LastName\")\n",
    "                                                       .when(F.col(\"Notification\") != F.lag(\"Notification\").over(window_spec_change), \"Notification\")\n",
    "                                                       .when((F.col(\"productName\") != F.lag(\"productName\").over(window_spec_change)) & \n",
    "                                                             (F.length(\"productName\") != F.lag(F.length(\"productName\")).over(window_spec_change)), \"productChange\")\n",
    "                                                       .otherwise(None))\n",
    "                                          .select(\"Email\", \"FirstName\", \"LastName\", \"Notification\", \"productName\", \"controlProduct\", \n",
    "                                                  \"CompanyNameSource\", \"iso_week_num\", \"client_status\", \"subscription_status\", \n",
    "                                                  \"removed_week\", \"change_type\"))\n",
    "    return changeIdentify"
   ]
  },
  {
   "cell_type": "code",
   "execution_count": 0,
   "metadata": {
    "application/vnd.databricks.v1+cell": {
     "cellMetadata": {
      "byteLimit": 2048000,
      "rowLimit": 10000
     },
     "inputWidgets": {},
     "nuid": "9139a361-6031-4382-a7db-99013368642c",
     "showTitle": false,
     "tableResultSettingsMap": {},
     "title": ""
    }
   },
   "outputs": [],
   "source": [
    "@dlt.table(\n",
    "    name=\"curated_statuspage\",\n",
    "    comment=\"This table transform all users for the subscribers on status page of the applications\",\n",
    "    table_properties={\"quality\": \"gold\"}\n",
    ")\n",
    "\n",
    "def curated_statuspage():\n",
    "    changeIdentify = dlt.read(\"changeIdentify\")\n",
    "    curated_statuspage = (changeIdentify.select(\n",
    "        \"Email\", \"FirstName\", \"LastName\", \"Notification\", \"productName\", \"controlProduct\", \n",
    "        \"CompanyNameSource\", \"iso_week_num\", \"client_status\", \"subscription_status\", \n",
    "        \"removed_week\", \"change_type\")\n",
    "        .orderBy(\"Email\", \"iso_week_num\"))\n",
    "    return curated_statuspage"
   ]
  }
 ],
 "metadata": {
  "application/vnd.databricks.v1+notebook": {
   "computePreferences": null,
   "dashboards": [],
   "environmentMetadata": {
    "base_environment": "",
    "environment_version": "2"
   },
   "language": "python",
   "notebookMetadata": {
    "pythonIndentUnit": 4
   },
   "notebookName": "Curated_StatusPage",
   "widgets": {}
  },
  "language_info": {
   "name": "python"
  }
 },
 "nbformat": 4,
 "nbformat_minor": 0
}
